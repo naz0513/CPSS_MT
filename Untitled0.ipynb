{
  "nbformat": 4,
  "nbformat_minor": 0,
  "metadata": {
    "colab": {
      "provenance": [],
      "authorship_tag": "ABX9TyPK7TSxwmre8DAwb/wjGONX",
      "include_colab_link": true
    },
    "kernelspec": {
      "name": "python3",
      "display_name": "Python 3"
    },
    "language_info": {
      "name": "python"
    }
  },
  "cells": [
    {
      "cell_type": "markdown",
      "metadata": {
        "id": "view-in-github",
        "colab_type": "text"
      },
      "source": [
        "<a href=\"https://colab.research.google.com/github/naz0513/CPSS_MT/blob/main/Untitled0.ipynb\" target=\"_parent\"><img src=\"https://colab.research.google.com/assets/colab-badge.svg\" alt=\"Open In Colab\"/></a>"
      ]
    },
    {
      "cell_type": "code",
      "execution_count": 12,
      "metadata": {
        "id": "JTXabYb6ZN_6"
      },
      "outputs": [],
      "source": [
        "from sklearn.model_selection import train_test_split\n",
        "from sklearn.preprocessing import StandardScaler, LabelEncoder\n",
        "from tensorflow.keras.preprocessing.sequence import pad_sequences\n",
        "from tensorflow.keras.models import Sequential\n",
        "from tensorflow.keras.layers import LSTM, Dense, Dropout\n",
        "\n",
        "from tensorflow.keras.callbacks import EarlyStopping\n",
        "\n"
      ]
    },
    {
      "cell_type": "code",
      "source": [
        "import pandas as pd\n",
        "import numpy as np\n",
        "import os\n",
        "import glob\n",
        "\n",
        "import matplotlib.pyplot as plt\n",
        "from matplotlib.offsetbox import OffsetImage, AnnotationBbox\n",
        "\n",
        "from sklearn.metrics import silhouette_score\n",
        "from sklearn.cluster import KMeans\n",
        "from sklearn.preprocessing import StandardScaler\n",
        "from sklearn.impute import SimpleImputer\n",
        "\n",
        "from sklearn.manifold import MDS"
      ],
      "metadata": {
        "id": "qR-575IJZQ-Y"
      },
      "execution_count": 3,
      "outputs": []
    },
    {
      "cell_type": "code",
      "source": [
        "#这里是speed change|direction change|total time+distance｜MDS｜Kmeans\n",
        "df_all = pd.read_csv('/df_exp123_9.4_cluster2.0.csv')\n",
        "crowd_radius = 2.6931394319641155"
      ],
      "metadata": {
        "id": "oVI60GafZZgT"
      },
      "execution_count": 9,
      "outputs": []
    },
    {
      "cell_type": "code",
      "source": [
        "# 根据 crowd_radius 分割\n",
        "df_all['Crowd_Radius_Label'] = np.where(df_all['Cumulative_Distance'] <= crowd_radius, 'Inside', 'Outside')\n",
        "\n",
        "# 选取特征并根据 crowd_radius 分割内外\n",
        "df_outside = df_all[df_all['Crowd_Radius_Label'] == 'Outside']"
      ],
      "metadata": {
        "id": "gYtWDM84cazr"
      },
      "execution_count": 10,
      "outputs": []
    },
    {
      "cell_type": "code",
      "source": [
        "# 将特征和目标标签分开，使用 trajectory 作为分组单位\n",
        "X = df_outside.groupby('Trajectory')[['Positionx','Positiony','Speed_change', 'Direction_change', 'Cumulative_Time', 'Cumulative_Distance',\n",
        "                                      'Speed_change_derivative','Direction_change_derivative','Cumulative_Distance_derivative']].apply(np.array).values\n",
        "y = df_outside.groupby('Trajectory')['Cluster_Label'].first().values\n",
        "\n",
        "# 编码目标标签\n",
        "label_encoder = LabelEncoder()\n",
        "y_encoded = label_encoder.fit_transform(y)\n",
        "\n",
        "# 将数据分成训练集和测试集\n",
        "X_train, X_test, y_train, y_test = train_test_split(X, y_encoded, test_size=0.2, random_state=0)\n",
        "\n",
        "# 使用 pad_sequences 来填充序列，使所有轨迹的时间步长一致\n",
        "X_train_padded = pad_sequences(X_train, dtype='float32', padding='post', value=0.0)\n",
        "X_test_padded = pad_sequences(X_test, dtype='float32', padding='post', value=0.0)"
      ],
      "metadata": {
        "id": "l5lrM5hugaJo"
      },
      "execution_count": 16,
      "outputs": []
    },
    {
      "cell_type": "code",
      "source": [
        "# 计算类别权重，处理类不平衡\n",
        "class_weights = class_weight.compute_class_weight(\n",
        "    class_weight='balanced',\n",
        "    classes=np.unique(y_train),\n",
        "    y=y_train\n",
        ")\n",
        "class_weights = dict(enumerate(class_weights))\n",
        "\n",
        "# 构建 Bidirectional LSTM 模型\n",
        "model = Sequential()\n",
        "model.add(Bidirectional(LSTM(100, activation='relu', return_sequences=True), input_shape=(X_train_padded.shape[1], X_train_padded.shape[2])))\n",
        "model.add(Dropout(0.3))\n",
        "model.add(Bidirectional(LSTM(100, activation='relu')))\n",
        "model.add(Dropout(0.3))\n",
        "model.add(Dense(50, activation='relu'))\n",
        "model.add(Dense(1, activation='sigmoid'))\n",
        "\n",
        "# 编译模型\n",
        "model.compile(optimizer='adam', loss='binary_crossentropy', metrics=['accuracy'])\n",
        "\n",
        "# 早停法设置\n",
        "early_stopping = EarlyStopping(monitor='val_loss', patience=5, restore_best_weights=True)\n",
        "\n",
        "# 训练模型，使用类别权重并应用早停法\n",
        "history = model.fit(X_train_padded, y_train, epochs=100, batch_size=64, validation_split=0.2,\n",
        "                    class_weight=class_weights, callbacks=[early_stopping])\n",
        "\n",
        "# 评估模型\n",
        "loss, accuracy = model.evaluate(X_test_padded, y_test)\n",
        "print(f'Test Accuracy: {accuracy}')"
      ],
      "metadata": {
        "colab": {
          "base_uri": "https://localhost:8080/"
        },
        "id": "0RgMXlZCiwMy",
        "outputId": "a855fac9-109d-4511-db1d-be98bec92bb5"
      },
      "execution_count": 22,
      "outputs": [
        {
          "output_type": "stream",
          "name": "stdout",
          "text": [
            "Epoch 1/100\n"
          ]
        },
        {
          "output_type": "stream",
          "name": "stderr",
          "text": [
            "/usr/local/lib/python3.10/dist-packages/keras/src/layers/rnn/bidirectional.py:107: UserWarning: Do not pass an `input_shape`/`input_dim` argument to a layer. When using Sequential models, prefer using an `Input(shape)` object as the first layer in the model instead.\n",
            "  super().__init__(**kwargs)\n"
          ]
        },
        {
          "output_type": "stream",
          "name": "stdout",
          "text": [
            "\u001b[1m13/13\u001b[0m \u001b[32m━━━━━━━━━━━━━━━━━━━━\u001b[0m\u001b[37m\u001b[0m \u001b[1m20s\u001b[0m 1s/step - accuracy: 0.6414 - loss: nan - val_accuracy: 0.6765 - val_loss: nan\n",
            "Epoch 2/100\n",
            "\u001b[1m13/13\u001b[0m \u001b[32m━━━━━━━━━━━━━━━━━━━━\u001b[0m\u001b[37m\u001b[0m \u001b[1m20s\u001b[0m 998ms/step - accuracy: 0.6686 - loss: nan - val_accuracy: 0.6765 - val_loss: nan\n",
            "Epoch 3/100\n",
            "\u001b[1m13/13\u001b[0m \u001b[32m━━━━━━━━━━━━━━━━━━━━\u001b[0m\u001b[37m\u001b[0m \u001b[1m13s\u001b[0m 1s/step - accuracy: 0.6786 - loss: nan - val_accuracy: 0.6765 - val_loss: nan\n",
            "Epoch 4/100\n",
            "\u001b[1m13/13\u001b[0m \u001b[32m━━━━━━━━━━━━━━━━━━━━\u001b[0m\u001b[37m\u001b[0m \u001b[1m20s\u001b[0m 972ms/step - accuracy: 0.6673 - loss: nan - val_accuracy: 0.6765 - val_loss: nan\n",
            "Epoch 5/100\n",
            "\u001b[1m13/13\u001b[0m \u001b[32m━━━━━━━━━━━━━━━━━━━━\u001b[0m\u001b[37m\u001b[0m \u001b[1m21s\u001b[0m 988ms/step - accuracy: 0.6681 - loss: nan - val_accuracy: 0.6765 - val_loss: nan\n",
            "\u001b[1m8/8\u001b[0m \u001b[32m━━━━━━━━━━━━━━━━━━━━\u001b[0m\u001b[37m\u001b[0m \u001b[1m2s\u001b[0m 126ms/step - accuracy: 0.6373 - loss: nan\n",
            "Test Accuracy: 0.6470588445663452\n"
          ]
        }
      ]
    }
  ]
}